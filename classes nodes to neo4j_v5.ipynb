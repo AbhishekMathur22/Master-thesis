{
 "cells": [
  {
   "cell_type": "code",
   "execution_count": null,
   "id": "bdec117d",
   "metadata": {},
   "outputs": [],
   "source": []
  },
  {
   "cell_type": "code",
   "execution_count": 1,
   "id": "7b08d685",
   "metadata": {},
   "outputs": [
    {
     "name": "stderr",
     "output_type": "stream",
     "text": [
      "* Owlready2 * Warning: optimized Cython parser module 'owlready2_optimized' is not available, defaulting to slower Python implementation\n"
     ]
    }
   ],
   "source": [
    "from owlready2 import *\n",
    "# from emmopy import get_emmo\n",
    "from neo4j import GraphDatabase, basic_auth\n",
    "\n",
    "onto_path.append(\"\")\n",
    "onto_process=get_ontology(\"C://Abhishek Thesis//ontology//manufacturing.owl\").load()\n",
    "\n",
    "onto_matter=get_ontology(\"C://Abhishek Thesis//ontology//matter.owl\").load()\n",
    "\n",
    "onto_quantity=get_ontology(\"C://Abhishek Thesis//ontology//quantities.owl\").load()\n"
   ]
  },
  {
   "cell_type": "code",
   "execution_count": 2,
   "id": "58844589",
   "metadata": {},
   "outputs": [],
   "source": [
    "# results = onto_quantity.search_one(label=\"properties.Quantity\")\n",
    "# print(results)"
   ]
  },
  {
   "cell_type": "markdown",
   "id": "75bc5409",
   "metadata": {},
   "source": [
    "# Creating node-class-EMMO_is_a relations between exisiting classes."
   ]
  },
  {
   "cell_type": "code",
   "execution_count": 3,
   "id": "fe6b1f8e",
   "metadata": {},
   "outputs": [],
   "source": [
    "\n",
    "# # To chcek the parent class of a class\n",
    "# print(onto_quantity['RotationalFrequency'])"
   ]
  },
  {
   "cell_type": "code",
   "execution_count": 4,
   "id": "323efd3a",
   "metadata": {},
   "outputs": [],
   "source": [
    "\n",
    "# onto_matter.Matter.iri"
   ]
  },
  {
   "cell_type": "code",
   "execution_count": 5,
   "id": "21f523f8",
   "metadata": {},
   "outputs": [],
   "source": [
    "# print(onto_quantity.Velocity)"
   ]
  },
  {
   "cell_type": "markdown",
   "id": "a93143ff",
   "metadata": {},
   "source": [
    "## map the 3 ontologies on neo4j"
   ]
  },
  {
   "cell_type": "code",
   "execution_count": 6,
   "id": "c8b3488c",
   "metadata": {},
   "outputs": [],
   "source": [
    "\n",
    "\n",
    "\n",
    "# Define Neo4j connection details\n",
    "uri = \"bolt://localhost:7687\"\n",
    "user = \"neo4j\"\n",
    "password = \"password\"\n",
    "\n",
    "# Create Neo4j driver and session\n",
    "driver = GraphDatabase.driver(uri, auth=(user, password))\n",
    "session = driver.session()\n",
    "\n",
    "# Define function to create nodes\n",
    "def create_node(tx, label, name,iri):\n",
    "    tx.run(\"MERGE (n:\" + label + \" {name: $name, uri:$uri})\", name=name, uri=iri)\n",
    "    \n",
    "\n",
    "# Define function to create EMMO_IS_A relationships\n",
    "def create_emmo_is_a_rel(tx,class_, subclass, superclass):\n",
    "    tx.run(\"MATCH (c1:\" + class_ + \" {name: $subclass}), (c2:\" + class_ + \" {name: $superclass}) \"\n",
    "           \"MERGE (c1)-[:EMMO_IS_A]->(c2)\",class_=class_ ,subclass=subclass, superclass=superclass)\n",
    "\n",
    "# Create nodes for each ontology\n",
    "# with session.begin_transaction() as tx:\n",
    "#     create_node(tx, \"EEMOMatter\", \"Matter\")\n",
    "#     create_node(tx, \"EMMOProcess\", \"Process\")\n",
    "#     create_node(tx, \"EMMOQuantity\", \"Quantity\")\n",
    "\n",
    "# Create nodes for each class in Matter ontology\n",
    "with session.begin_transaction() as tx:\n",
    "    for clazz in onto_matter.classes():\n",
    "        create_node(tx, \"EMMOMatter\", clazz.name,clazz.iri)\n",
    "\n",
    "# Create nodes for each class in Process ontology\n",
    "with session.begin_transaction() as tx:\n",
    "    for clazz in onto_process.classes():\n",
    "        create_node(tx, \"EMMOProcess\", clazz.name,clazz.iri)\n",
    "\n",
    "# Create nodes for each class in Quantity ontology\n",
    "with session.begin_transaction() as tx:\n",
    "    for clazz in onto_quantity.classes():\n",
    "        create_node(tx, \"EMMOQuantity\", clazz.name,clazz.iri)\n",
    "\n",
    "# Create EMMO_IS_A relationships for each class\n",
    "with session.begin_transaction() as tx:\n",
    "    for clazz in onto_matter.classes():\n",
    "        for parent in clazz.is_a:\n",
    "            create_emmo_is_a_rel(tx,'EMMOMatter', clazz.name, parent.name)\n",
    "    for clazz in onto_process.classes():\n",
    "        for parent in clazz.is_a:\n",
    "            create_emmo_is_a_rel(tx,'EMMOProcess', clazz.name, parent.name)\n",
    "    for clazz in onto_quantity.classes():\n",
    "        for parent in clazz.is_a:\n",
    "            create_emmo_is_a_rel(tx,'EMMOQuantity', clazz.name, parent.name)\n",
    "\n",
    "# Close Neo4j session and driver\n",
    "session.close()\n",
    "driver.close()\n"
   ]
  },
  {
   "cell_type": "markdown",
   "id": "aacc084d",
   "metadata": {},
   "source": [
    "# Create separate Node labels and classes"
   ]
  },
  {
   "cell_type": "code",
   "execution_count": null,
   "id": "fd6cd029",
   "metadata": {},
   "outputs": [],
   "source": []
  },
  {
   "cell_type": "markdown",
   "id": "2d5b99b8",
   "metadata": {},
   "source": [
    "# To create relation between vclasses"
   ]
  },
  {
   "cell_type": "code",
   "execution_count": 7,
   "id": "2d5a2545",
   "metadata": {},
   "outputs": [],
   "source": [
    "# Match(n) optional match(n)-[r]-() delete n,r"
   ]
  },
  {
   "cell_type": "markdown",
   "id": "d44b6110",
   "metadata": {},
   "source": [
    "# to create relation between vclasses"
   ]
  },
  {
   "cell_type": "code",
   "execution_count": 8,
   "id": "8cf1748e",
   "metadata": {},
   "outputs": [],
   "source": [
    "\n",
    "# query = f\"MATCH (m:{node1} {{name: '{domain_cls}'}}), (ma:{node2} {{name: '{range_cls}'}}) CREATE (m)-[:{rel_type}]->(ma)\"\n",
    "#             result = session.run(query)"
   ]
  },
  {
   "cell_type": "code",
   "execution_count": 17,
   "id": "b5b37aa1",
   "metadata": {},
   "outputs": [
    {
     "name": "stdout",
     "output_type": "stream",
     "text": [
      "Elucidating the Influence of the d-Band Center on the Synthesis of Isobutanol\n",
      "000000-1\n",
      "000000-1-3\n"
     ]
    }
   ],
   "source": [
    "import pandas as pd\n",
    "path='C://Abhishek Thesis//OneDrive_1_5-11-2023//test file-organization data//org_data_2.xlsx'\n",
    "# Read Excel file and specify data types for columns\n",
    "df = pd.read_excel(path)\n",
    "\n",
    "data = []\n",
    "for index, row in df.iterrows():\n",
    "    attribute = row[0]\n",
    "    value = row[1]\n",
    "    data.append((attribute.strip(), str(value).strip()))\n",
    "\n",
    "# print(data)\n",
    "\n",
    "\n",
    "# Generate variable names dynamically\n",
    "var_names = [x[0].lower().replace(' ', '_').replace('-', '_') for x in data]\n",
    "\n",
    "# Create a string with the assignments\n",
    "assign_str = '\\n'.join([f\"{var_names[i]} = '{data[i][1]}'\" for i in range(len(data))])\n",
    "\n",
    "# Execute the string to perform the assignments\n",
    "exec(assign_str)\n"
   ]
  },
  {
   "cell_type": "code",
   "execution_count": 18,
   "id": "5f389b40",
   "metadata": {},
   "outputs": [
    {
     "name": "stdout",
     "output_type": "stream",
     "text": [
      "67543hb FZJ IEK-13\n",
      "yuib234 FZJ IEK-14\n"
     ]
    }
   ],
   "source": [
    "# def create_or_get_node(tx, label, **properties):\n",
    "#     \"\"\" check for existing nodes, if not there, create new\"\"\"\n",
    "#     query = \"MERGE (n:%s {name: $name}) RETURN n\" % label\n",
    "#     result = tx.run(query, name=properties['name'])\n",
    "#     if not result.peek():\n",
    "#         create_node(tx, label, **properties)\n",
    "     \n",
    "    \n",
    "    \n",
    "def create_nodes(tx, label, **properties):\n",
    "    query = f\"CREATE (n:{label}) SET n += $properties RETURN n\"\n",
    "    return tx.run(query, properties=properties)\n",
    "\n",
    "def create_or_get_node(tx, label, match_property, properties):\n",
    "    query = f\"MERGE (n:{label} {{{match_property}: $value}}) SET n += $properties RETURN n\"\n",
    "    result = tx.run(query, value=properties[match_property], properties=properties)\n",
    "    if not result.peek():\n",
    "        create_nodes(tx, label, **properties)\n",
    "\n",
    "\n",
    "# Function to create the relationship if it doesn't exist\n",
    "def create_relation(tx, node1, node2, relation, property1, property2):\n",
    "    query = f\"MATCH (n1), (n2) WHERE n1.{property1} = $name1 AND n2.{property2} = $name2 \" \\\n",
    "            f\"MERGE (n1)-[r:{relation}]->(n2) \" \\\n",
    "            f\"RETURN count(r)\"\n",
    "    result = tx.run(query, name1=node1, name2=node2)\n",
    "    count = result.single()[0]\n",
    "    return count\n",
    "    \n",
    "founding_body_list = founding_body.split(\",\")    \n",
    "country_list = country.split(\",\")\n",
    "institution_list = institution.split(\",\")\n",
    "orcid_list = orcid.split(\",\")\n",
    "authors_list_list = authors_list.split(\",\")\n",
    "\n",
    "# Create nodes for Researcher, Institution and Country\n",
    "with driver.session() as session:\n",
    "    with session.begin_transaction() as tx:\n",
    "    \n",
    "        for country_ in country_list:\n",
    "            if country not in ('','-','nan'):\n",
    "                properties = {'name': country_}\n",
    "                create_or_get_node(tx, \"Country\",'name', properties)\n",
    "        \n",
    "    \n",
    "        for institution_ in institution_list:\n",
    "            if institution not in ('','-','nan'):\n",
    "                properties = {'name': institution_}\n",
    "                create_or_get_node(tx, \"Institution\",'name', properties)\n",
    "\n",
    "        for authors_list_,orcid_ in zip(authors_list_list,orcid_list):\n",
    "            if orcid not in ('', '-', 'nan'):\n",
    "                properties = {'name': authors_list_, 'orcid': orcid_}\n",
    "                create_or_get_node(tx, \"Researcher\", 'orcid', properties)\n",
    "\n",
    "        \n",
    "#         if orcid not in ('','-','nan'): \n",
    "#             create_or_get_node(tx, \"Researcher\", name=authors_list, orcid=orcid)\n",
    "\n",
    "                \n",
    "        \n",
    "        if subcomponent not in ('','-','nan'):    \n",
    "            properties = {'name': subcomponent}\n",
    "            create_or_get_node(tx, \"Component\",'name', properties)\n",
    "\n",
    "                \n",
    "  \n",
    "        if device not in ('','-','nan'): \n",
    "            properties = {'name': device}\n",
    "            create_or_get_node(tx, \"Device\",'name', properties)\n",
    "\n",
    "        \n",
    "\n",
    "        if material not in ('','-','nan'):  \n",
    "            properties = {'name': material}\n",
    "            create_or_get_node(tx, \"Material\", 'name',properties)\n",
    "\n",
    "                     \n",
    "\n",
    "        properties = {'name': measurement_id,'experiment_start':measurement_date,\n",
    "                    'date_added':upload_date, 'run_title' :experiment_title, 'experiment_id':experiment_id}\n",
    "        create_or_get_node(tx, \"Measurement\",'name',properties)\n",
    "\n",
    "        \n",
    "        \n",
    "# config_rel_lst=[{'node1':orcid, 'node2':institution,'relation': 'AFFILIATED_TO', 'property_name1':'orcid','property_name2': 'name'},\n",
    "#       {'node1':institution, 'node2':country,'relation': 'IN', 'property_name1':'name','property_name2': 'name'},\n",
    "#       {'node1':orcid, 'node2':country,'relation': 'IN', 'property_name1':'orcid','property_name2': 'name'},\n",
    "#       {'node1':measurement_id, 'node2':orcid,'relation': 'BY', 'property_name1':'name','property_name2': 'orcid'} \n",
    "#      ]\n",
    "           \n",
    "# Create relations between the nodes  \n",
    "    with session.begin_transaction() as tx:  \n",
    "    # Check and create relationship\n",
    "        for orcid_,institution_  in zip(orcid_list,institution_list):\n",
    "            count = create_relation(tx, orcid_, institution_, 'AFFILIATED_TO', 'orcid', 'name')\n",
    "\n",
    "            if count == 0:\n",
    "                print(\"Relationship AFFILIATED_TO doesn't exist, creating it...\")\n",
    "                create_relation(tx, orcid_, institution_, 'AFFILIATED_TO', 'orcid', 'name')\n",
    "            else:\n",
    "                pass\n",
    "\n",
    "        for institution_, country_ in zip(institution_list,country_list):\n",
    "\n",
    "            count = create_relation(tx, institution_, country_, 'IN', 'name', 'name')\n",
    "\n",
    "            if count == 0:\n",
    "                print(\"Relationship IN doesn't exist, creating it...\")\n",
    "                create_relation(tx, institution_, country_, 'IN', 'name', 'name')\n",
    "            else:\n",
    "                pass\n",
    "        \n",
    "        \n",
    "        for orcid_, country_ in zip(orcid_list,country_list):\n",
    "            count = create_relation(tx, orcid_, country_, 'IN', 'orcid', 'name')\n",
    "\n",
    "            if count == 0:\n",
    "                print(\"Relationship IN_ orcid doesn't exist, creating it...\")\n",
    "                create_relation(tx, orcid_, country_, 'IN', 'orcid', 'name')\n",
    "            else:\n",
    "                pass\n",
    "        \n",
    "        \n",
    "        for orcid_ in orcid_list:\n",
    "            count = create_relation(tx, measurement_id, orcid_, 'BY', 'name', 'orcid')\n",
    "\n",
    "            if count == 0:\n",
    "                print(\"Relationship BY doesn't exist, creating it...\")\n",
    "                create_relation(tx, measurement_id, orcid_, 'BY', 'name', 'orcid')\n",
    "            else:\n",
    "                pass\n",
    "        \n",
    "\n"
   ]
  },
  {
   "cell_type": "code",
   "execution_count": null,
   "id": "6fcd3163",
   "metadata": {},
   "outputs": [],
   "source": []
  },
  {
   "cell_type": "code",
   "execution_count": null,
   "id": "fa5817bf",
   "metadata": {},
   "outputs": [],
   "source": []
  },
  {
   "cell_type": "code",
   "execution_count": 14,
   "id": "088e43e6",
   "metadata": {},
   "outputs": [],
   "source": [
    "# print(Measurement_ID,Experiment_ID=Experiment_ID, Experiment_Title=Experiment_Title, Measurement_date=Measurement_date)"
   ]
  },
  {
   "cell_type": "code",
   "execution_count": 15,
   "id": "c0652205",
   "metadata": {},
   "outputs": [],
   "source": [
    "# # Define a function to create nodes with properties\n",
    "# def create_node(tx, label, **properties):\n",
    "#     query = \"CREATE (n:%s) SET n += $properties RETURN n\" % label\n",
    "#     return tx.run(query, properties=properties)\n",
    "\n",
    "# # Define a function to create a relation between two nodes\n",
    "# def create_relation(tx, node1, node2, relation):\n",
    "#     query = \"MATCH (n1),(n2) WHERE n1.name = $name1 AND n2.name = $name2 CREATE (n1)-[:%s]->(n2)\" % relation\n",
    "#     return tx.run(query, name1=node1, name2=node2)\n",
    "\n",
    "# with driver.session() as session:\n",
    "#     with session.begin_transaction() as tx:\n",
    "#         # Create nodes for Researcher, Institution, Country, Component, Device and Material\n",
    "#         if country not in ('', '-', 'nan'):\n",
    "#             result = tx.run(\"MERGE (c:Country {name: $country}) RETURN c\", country=country)\n",
    "#             create_node(tx, \"Country\", name=country)\n",
    "#         if institution not in ('', '-', 'nan'):\n",
    "#             result = tx.run(\"MERGE (c:Institution {name: $institution}) RETURN c\", institution=institution)\n",
    "#             create_node(tx, \"Institution\", name=institution)\n",
    "#         if orcid not in ('', '-', 'nan'):\n",
    "#             result = tx.run(\"MERGE (c:Researcher {name: $authors_list,orcid:$orcid}) RETURN c\", authors_list=authors_list, orcid=orcid)\n",
    "#             create_node(tx, \"Researcher\", name=authors_list, orcid=orcid)\n",
    "#         if subcomponent not in ('', '-', 'nan'):\n",
    "#             result = tx.run(\"MERGE (c:Component {name: $subcomponent}) RETURN c\", subcomponent=subcomponent)\n",
    "#             create_node(tx, \"Component\", name=subcomponent)\n",
    "#         if device not in ('', '-', 'nan'):\n",
    "#             result = tx.run(\"MERGE (c:Device {name: $device}) RETURN c\", device=device)\n",
    "#             create_node(tx, \"Device\", name=device)\n",
    "#         if material not in ('', '-', 'nan'):\n",
    "#             result = tx.run(\"MERGE (c:Material {name: $material}) RETURN c\", material=material)\n",
    "#             create_node(tx, \"Material\", name=material)\n",
    "\n",
    "#         # Create Measurement node with properties and relations to Researcher node\n",
    "#         create_node(tx, \"Measurement\", name=measurement_id, experiment_start=measurement_date, date_added=upload_date, run_title=experiment_title, experiment_id=experiment_id)\n",
    "#         if all(x not in ('', '-', 'nan') for x in [measurement_id, authors_list]):\n",
    "#             create_relation(tx, measurement_id, authors_list, \"BY\")\n",
    "\n",
    "#         # Create relations between nodes\n",
    "#         if all(x not in ('', '-', 'nan') for x in [authors_list, institution]):\n",
    "#             create_relation(tx, authors_list, institution, \"AFFILIATED_TO\")\n",
    "#         if all(x not in ('', '-', 'nan') for x in [institution, country]):\n",
    "#             create_relation(tx, institution, country, \"IN\")\n",
    "#         if all(x not in ('', '-', 'nan') for x in [authors_list, country]):\n",
    "#             create_relation(tx, authors_list, country, \"IN\")\n",
    "#         if all(x not in ('','-','nan') for x in [measurement_id, authors_list]):    \n",
    "#             create_relation(tx, measurement_id, authors_list, \"BY\")"
   ]
  },
  {
   "cell_type": "code",
   "execution_count": null,
   "id": "a153ece0",
   "metadata": {},
   "outputs": [],
   "source": []
  },
  {
   "cell_type": "markdown",
   "id": "aadb3522",
   "metadata": {},
   "source": [
    "# Create attributes"
   ]
  },
  {
   "cell_type": "code",
   "execution_count": null,
   "id": "c16aad20",
   "metadata": {},
   "outputs": [],
   "source": []
  },
  {
   "cell_type": "code",
   "execution_count": null,
   "id": "676633c9",
   "metadata": {},
   "outputs": [],
   "source": []
  }
 ],
 "metadata": {
  "kernelspec": {
   "display_name": "Python 3 (ipykernel)",
   "language": "python",
   "name": "python3"
  },
  "language_info": {
   "codemirror_mode": {
    "name": "ipython",
    "version": 3
   },
   "file_extension": ".py",
   "mimetype": "text/x-python",
   "name": "python",
   "nbconvert_exporter": "python",
   "pygments_lexer": "ipython3",
   "version": "3.10.9"
  }
 },
 "nbformat": 4,
 "nbformat_minor": 5
}
