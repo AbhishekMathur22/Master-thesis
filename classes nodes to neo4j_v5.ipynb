{
 "cells": [
  {
   "cell_type": "markdown",
   "id": "43847171",
   "metadata": {},
   "source": [
    "# Import the libs and base ontologies"
   ]
  },
  {
   "cell_type": "code",
   "execution_count": 1,
   "id": "7b08d685",
   "metadata": {},
   "outputs": [
    {
     "name": "stderr",
     "output_type": "stream",
     "text": [
      "* Owlready2 * Warning: optimized Cython parser module 'owlready2_optimized' is not available, defaulting to slower Python implementation\n"
     ]
    }
   ],
   "source": [
    "from owlready2 import *\n",
    "# from emmopy import get_emmo\n",
    "from neo4j import GraphDatabase, basic_auth\n",
    "from owlready2 import get_ontology\n",
    "# from emmopy import get_emmo\n",
    "from neo4j import GraphDatabase, basic_auth\n",
    "from sentence_transformers import SentenceTransformer, util\n",
    "import torch\n",
    "import re\n",
    "onto_path.append(\"\")\n",
    "onto_process=get_ontology(\"C://Abhishek Thesis//ontology//manufacturing.owl\").load()\n",
    "\n",
    "# onto_matter=get_ontology(\"C://Abhishek Thesis//ontology//matter.owl\").load()\n",
    "onto_matter=get_ontology(\"https://raw.githubusercontent.com/IEK-13/MatGraphAI/master/Ontology/matter.owl\").load()\n",
    "\n",
    "onto_quantity=get_ontology(\"C://Abhishek Thesis//ontology//quantities.owl\").load()\n"
   ]
  },
  {
   "cell_type": "code",
   "execution_count": 2,
   "id": "58844589",
   "metadata": {},
   "outputs": [],
   "source": [
    "# results = onto_quantity.search_one(label=\"properties.Quantity\")\n",
    "# print(results)"
   ]
  },
  {
   "cell_type": "markdown",
   "id": "75bc5409",
   "metadata": {},
   "source": [
    "# Creating node-class 'EMMO_IS_A' relations between exisiting classes."
   ]
  },
  {
   "cell_type": "markdown",
   "id": "a93143ff",
   "metadata": {},
   "source": [
    "## map the 3 ontologies on neo4j"
   ]
  },
  {
   "cell_type": "code",
   "execution_count": 3,
   "id": "c8b3488c",
   "metadata": {},
   "outputs": [],
   "source": [
    "\n",
    "\n",
    "\n",
    "# Define Neo4j connection details\n",
    "uri = \"bolt://localhost:7687\"\n",
    "user = \"neo4j\"\n",
    "password = \"password\"\n",
    "\n",
    "# Create Neo4j driver and session\n",
    "driver = GraphDatabase.driver(uri, auth=(user, password))\n",
    "session = driver.session()\n",
    "\n",
    "# Define function to create nodes\n",
    "def create_node(tx, label, name,iri):\n",
    "    tx.run(\"MERGE (n:\" + label + \" {name: $name, uri:$uri})\", name=name, uri=iri)\n",
    "    \n",
    "\n",
    "# Define function to create EMMO_IS_A relationships\n",
    "def create_emmo_is_a_rel(tx,class_, subclass, superclass):\n",
    "    tx.run(\"MATCH (c1:\" + class_ + \" {name: $subclass}), (c2:\" + class_ + \" {name: $superclass}) \"\n",
    "           \"MERGE (c1)-[:EMMO_IS_A]->(c2)\",class_=class_ ,subclass=subclass, superclass=superclass)\n",
    "\n",
    "# Create nodes for each class in Matter ontology\n",
    "with session.begin_transaction() as tx:\n",
    "    for clazz in onto_matter.classes():\n",
    "        create_node(tx, \"EMMOMatter\", clazz.name,clazz.iri)\n",
    "\n",
    "# Create nodes for each class in Process ontology\n",
    "with session.begin_transaction() as tx:\n",
    "    for clazz in onto_process.classes():\n",
    "        create_node(tx, \"EMMOProcess\", clazz.name,clazz.iri)\n",
    "\n",
    "# Create nodes for each class in Quantity ontology\n",
    "with session.begin_transaction() as tx:\n",
    "    for clazz in onto_quantity.classes():\n",
    "        create_node(tx, \"EMMOQuantity\", clazz.name,clazz.iri)\n",
    "\n",
    "# Create EMMO_IS_A relationships for each class\n",
    "with session.begin_transaction() as tx:\n",
    "    for clazz in onto_matter.classes():\n",
    "        for parent in clazz.is_a:\n",
    "            create_emmo_is_a_rel(tx,'EMMOMatter', clazz.name, parent.name)\n",
    "    for clazz in onto_process.classes():\n",
    "        for parent in clazz.is_a:\n",
    "            create_emmo_is_a_rel(tx,'EMMOProcess', clazz.name, parent.name)\n",
    "    for clazz in onto_quantity.classes():\n",
    "        for parent in clazz.is_a:\n",
    "            create_emmo_is_a_rel(tx,'EMMOQuantity', clazz.name, parent.name)\n",
    "\n",
    "# Close Neo4j session and driver\n",
    "session.close()\n",
    "driver.close()\n"
   ]
  },
  {
   "cell_type": "code",
   "execution_count": null,
   "id": "fd6cd029",
   "metadata": {},
   "outputs": [],
   "source": []
  },
  {
   "cell_type": "markdown",
   "id": "2d5b99b8",
   "metadata": {},
   "source": [
    "# Neo4j codes"
   ]
  },
  {
   "cell_type": "code",
   "execution_count": 4,
   "id": "2d5a2545",
   "metadata": {},
   "outputs": [],
   "source": [
    "# Match(n) optional match(n)-[r]-() delete n,r\n",
    "\n",
    "#to search for a node\n",
    "# MATCH (n:Person)\n",
    "# WHERE n.name = 'John'\n",
    "# RETURN n\n",
    "\n",
    "\n",
    "# MATCH (superclass:EMMOMatter)\n",
    "# WHERE superclass.name = 'Device'\n",
    "#     return superclass"
   ]
  },
  {
   "cell_type": "markdown",
   "id": "d44b6110",
   "metadata": {},
   "source": [
    "# Get the data from file"
   ]
  },
  {
   "cell_type": "code",
   "execution_count": 5,
   "id": "8cf1748e",
   "metadata": {},
   "outputs": [],
   "source": [
    "\n",
    "# query = f\"MATCH (m:{node1} {{name: '{domain_cls}'}}), (ma:{node2} {{name: '{range_cls}'}}) CREATE (m)-[:{rel_type}]->(ma)\"\n",
    "#             result = session.run(query)"
   ]
  },
  {
   "cell_type": "code",
   "execution_count": 7,
   "id": "d7a6b225",
   "metadata": {
    "scrolled": true
   },
   "outputs": [
    {
     "name": "stdout",
     "output_type": "stream",
     "text": [
      "experiment_title: Elucidating the Influence of the d-Band Center on the Synthesis of Isobutanol\n",
      "experimentid: 000000-1\n",
      "measurementid: 000000-1-2\n",
      "upload_date: 2022-10-11 00:00:00\n",
      "measurement_date: 2022-10-12 00:00:00\n",
      "institution: FZJ IEK-13,FZJ IEK-14\n",
      "founding_body: HIP, ABBC\n",
      "country: USA,JAPAN\n",
      "authors_list: Peter,koko\n",
      "orcid: HJGDF78,uibu5\n",
      "access_conditions: public\n",
      "published: https://doi.org/10.3390/catal11030406\n",
      "topic: Fuel Cells\n",
      "device: Fuel Cells\n",
      "component: MembraneElectrodeAssembly\n",
      "subcomponent: Catalyst Layer\n",
      "material: Carbon felt electrode\n",
      "granularity_level: Nanostructure\n"
     ]
    },
    {
     "name": "stderr",
     "output_type": "stream",
     "text": [
      "C:\\Users\\a.mathur\\AppData\\Local\\Temp\\ipykernel_20444\\3060306716.py:16: SettingWithCopyWarning: \n",
      "A value is trying to be set on a copy of a slice from a DataFrame.\n",
      "Try using .loc[row_indexer,col_indexer] = value instead\n",
      "\n",
      "See the caveats in the documentation: https://pandas.pydata.org/pandas-docs/stable/user_guide/indexing.html#returning-a-view-versus-a-copy\n",
      "  organizational_data.loc[:, 0] = organizational_data.loc[:, 0].str.strip()\n"
     ]
    }
   ],
   "source": [
    "import pandas as pd\n",
    "\n",
    "# Read the Excel file\n",
    "df = pd.read_excel('C://Abhishek Thesis//OneDrive_1_5-11-2023//test file-organization data//org_data_2.xlsx', header=None)\n",
    "\n",
    "# Find the row index where 'Organizational Data' is located\n",
    "start_row = df[df.iloc[:, 0] == 'Organizational Data'].index[0]\n",
    "\n",
    "# Find the row index where 'Characterization Data' is located\n",
    "end_row = df[df.iloc[:, 0] == 'Characterization Data'].index[0]\n",
    "\n",
    "# Extract the organizational data rows\n",
    "organizational_data = df.iloc[start_row + 1: end_row]\n",
    "\n",
    "# Remove trailing spaces from attribute names\n",
    "organizational_data.loc[:, 0] = organizational_data.loc[:, 0].str.strip()\n",
    "\n",
    "# Extract attributes and values\n",
    "attributes = organizational_data.iloc[:, 0].tolist()\n",
    "values = organizational_data.iloc[:, 1].tolist()\n",
    "\n",
    "# Create a dictionary of attributes and values\n",
    "data_dict = dict(zip(attributes, values))\n",
    "\n",
    "# Generate variable names dynamically and assign values\n",
    "for attribute, value in zip(attributes, values):\n",
    "    var_name = attribute.lower().replace(' ', '_').replace('-', '').replace(':', '')\n",
    "    globals()[var_name] = value\n",
    "\n",
    "# Print the variables to verify they contain the expected values\n",
    "for attribute, value in zip(attributes, values):\n",
    "    var_name = attribute.lower().replace(' ', '_').replace('-', '').replace(':', '')\n",
    "    print(f\"{var_name}: {globals()[var_name]}\")\n"
   ]
  },
  {
   "cell_type": "code",
   "execution_count": null,
   "id": "40b93b67",
   "metadata": {},
   "outputs": [],
   "source": [
    "\n"
   ]
  },
  {
   "cell_type": "markdown",
   "id": "e14d8a32",
   "metadata": {},
   "source": [
    "# Load file data to the neo4j ontology and make relationships"
   ]
  },
  {
   "cell_type": "code",
   "execution_count": 8,
   "id": "5f389b40",
   "metadata": {},
   "outputs": [],
   "source": [
    "# def create_or_get_node(tx, label, **properties):\n",
    "#     \"\"\" check for existing nodes, if not there, create new\"\"\"\n",
    "#     query = \"MERGE (n:%s {name: $name}) RETURN n\" % label\n",
    "#     result = tx.run(query, name=properties['name'])\n",
    "#     if not result.peek():\n",
    "#         create_node(tx, label, **properties)\n",
    "     \n",
    "    \n",
    "    \n",
    "def create_nodes(tx, label, **properties):\n",
    "    query = f\"CREATE (n:{label}) SET n += $properties RETURN n\"\n",
    "    return tx.run(query, properties=properties)\n",
    "\n",
    "def create_or_get_node(tx, label, match_property, properties):\n",
    "    query = f\"MERGE (n:{label} {{{match_property}: $value}}) SET n += $properties RETURN n\"\n",
    "    result = tx.run(query, value=properties[match_property], properties=properties)\n",
    "    if not result.peek():\n",
    "        create_nodes(tx, label, **properties)\n",
    "        \n",
    "def create_relation(tx, node1, node2, relation, property1, property2, label1, label2):\n",
    "    query = f\"MATCH (n1:{label1}), (n2:{label2}) WHERE n1.{property1} = $name1 AND n2.{property2} = $name2 \" \\\n",
    "            f\"MERGE (n1)-[r:{relation}]->(n2) \" \\\n",
    "            f\"RETURN count(r)\"\n",
    "    result = tx.run(query, name1=node1, name2=node2)\n",
    "    count = result.single()[0]\n",
    "    return count\n",
    "\n",
    "# Function to create the relationship if it doesn't exist\n",
    "# def create_relation(tx, node1, node2, relation, property1, property2):\n",
    "#     query = f\"MATCH (n1), (n2) WHERE n1.{property1} = $name1 AND n2.{property2} = $name2 \" \\\n",
    "#             f\"MERGE (n1)-[r:{relation}]->(n2) \" \\\n",
    "#             f\"RETURN count(r)\"\n",
    "#     result = tx.run(query, name1=node1, name2=node2)\n",
    "#     count = result.single()[0]\n",
    "#     return count\n",
    "\n",
    "\n",
    "\n",
    "    \n",
    "founding_body_list = founding_body.split(\",\")    \n",
    "country_list = country.split(\",\")\n",
    "institution_list = institution.split(\",\")\n",
    "orcid_list = orcid.split(\",\")\n",
    "authors_list_list = authors_list.split(\",\")\n",
    "\n",
    "# Create nodes for Researcher, Institution and Country\n",
    "with driver.session() as session:\n",
    "    with session.begin_transaction() as tx:\n",
    "    \n",
    "        for country_ in country_list:\n",
    "            if country not in ('','-','nan'):\n",
    "                properties = {'name': country_}\n",
    "                create_or_get_node(tx, \"Country\",'name', properties)\n",
    "                \n",
    "        for founding_body_ in founding_body_list:\n",
    "            if founding_body_ not in ('','-','nan'):\n",
    "                properties = {'name': founding_body_}\n",
    "                create_or_get_node(tx, \"FundingBody\",'name', properties)\n",
    "        \n",
    "    \n",
    "        for institution_ in institution_list:\n",
    "            if institution not in ('','-','nan'):\n",
    "                properties = {'name': institution_}\n",
    "                create_or_get_node(tx, \"Institution\",'name', properties)\n",
    "\n",
    "        for authors_list_,orcid_ in zip(authors_list_list,orcid_list):\n",
    "            if orcid not in ('', '-', 'nan'):\n",
    "                properties = {'name': authors_list_, 'orcid': orcid_}\n",
    "                create_or_get_node(tx, \"Researcher\", 'orcid', properties)\n",
    "\n",
    "        \n",
    "#         if orcid not in ('','-','nan'): \n",
    "#             create_or_get_node(tx, \"Researcher\", name=authors_list, orcid=orcid)\n",
    "\n",
    "                \n",
    "        \n",
    "        if subcomponent not in ('','-','nan'):    \n",
    "            properties = {'name': subcomponent}\n",
    "            create_or_get_node(tx, \"Subcomponent\",'name', properties)\n",
    "\n",
    "        \n",
    "#         if access_conditions not in ('','-','nan'):    \n",
    "#             properties = {'name': access_conditions}\n",
    "#             create_or_get_node(tx, \"Parameter\",'name', properties)\n",
    "\n",
    "        \n",
    "                \n",
    "        if component not in ('','-','nan'):    \n",
    "            properties = {'name': component}\n",
    "            create_or_get_node(tx, \"Component\",'name', properties)\n",
    "  \n",
    "        if device not in ('','-','nan'): \n",
    "            properties = {'name': device}\n",
    "            create_or_get_node(tx, \"Device\",'name', properties)\n",
    "\n",
    "        \n",
    "\n",
    "        if material not in ('','-','nan'):  \n",
    "            properties = {'name': material}\n",
    "            create_or_get_node(tx, \"Material\", 'name',properties)\n",
    "\n",
    "                     \n",
    "\n",
    "        properties = {'name': measurementid,'experiment_start':measurement_date,\n",
    "                    'date_added':upload_date, 'run_title' :experiment_title, 'experiment_id':experimentid, 'access_conditions':access_conditions}\n",
    "        create_or_get_node(tx, \"Measurement\",'name',properties)\n",
    "\n",
    "        \n",
    "        \n",
    "# config_rel_lst=[{'node1':orcid, 'node2':institution,'relation': 'AFFILIATED_TO', 'property_name1':'orcid','property_name2': 'name'},\n",
    "#       {'node1':institution, 'node2':country,'relation': 'IN', 'property_name1':'name','property_name2': 'name'},\n",
    "#       {'node1':orcid, 'node2':country,'relation': 'IN', 'property_name1':'orcid','property_name2': 'name'},\n",
    "#       {'node1':measurement_id, 'node2':orcid,'relation': 'BY', 'property_name1':'name','property_name2': 'orcid'} \n",
    "#      ]\n",
    "           \n",
    "# Create relations between the nodes  \n",
    "    with session.begin_transaction() as tx:  \n",
    "    # Check and create relationship\n",
    "        for orcid_,institution_  in zip(orcid_list,institution_list):\n",
    "            count = create_relation(tx, orcid_, institution_, 'AFFILIATED_TO', 'orcid', 'name','Researcher', 'Institution')\n",
    "\n",
    "            if count == 0:\n",
    "#                 print(\"Relationship AFFILIATED_TO doesn't exist, creating it...\")\n",
    "                create_relation(tx, orcid_, institution_, 'AFFILIATED_TO', 'orcid', 'name','Researcher', 'Institution')\n",
    "            else:\n",
    "                pass\n",
    "\n",
    "        for institution_, country_ in zip(institution_list,country_list):\n",
    "\n",
    "            count = create_relation(tx, institution_, country_, 'IN', 'name', 'name','Institution', 'Country')\n",
    "\n",
    "            if count == 0:\n",
    "#                 print(\"Relationship IN doesn't exist, creating it...\")\n",
    "                create_relation(tx, institution_, country_, 'IN', 'name', 'name','Institution', 'Country')\n",
    "            else:\n",
    "                pass\n",
    "        \n",
    "        \n",
    "        for orcid_, country_ in zip(orcid_list,country_list):\n",
    "            count = create_relation(tx, orcid_, country_, 'IN', 'orcid', 'name','Researcher', 'Country')\n",
    "\n",
    "            if count == 0:\n",
    "#                 print(\"Relationship IN_ orcid doesn't exist, creating it...\")\n",
    "                create_relation(tx, orcid_, country_, 'IN', 'orcid', 'name','Researcher', 'Country')\n",
    "            else:\n",
    "                pass\n",
    "        \n",
    "        \n",
    "        for orcid_ in orcid_list:\n",
    "            count = create_relation(tx, measurementid, orcid_, 'BY', 'name', 'orcid','Measurement', 'Researcher')\n",
    "\n",
    "            if count == 0:\n",
    "#                 print(\"Relationship BY doesn't exist, creating it...\")\n",
    "                create_relation(tx, measurementid, orcid_, 'BY', 'name', 'orcid','Measurement', 'Researcher')\n",
    "            else:\n",
    "                pass\n",
    "        \n",
    "        \n",
    "        count = create_relation(tx, material, measurementid, 'IS_MEASUREMENT_INPUT', 'name', 'name','Material', 'Measurement')\n",
    "        if count == 0:\n",
    "#                 print(\"Relationship IN_ orcid doesn't exist, creating it...\")\n",
    "            create_relation(tx,material, measurementid, 'IS_MEASUREMENT_INPUT', 'name', 'name','Material', 'Measurement')\n",
    "        else:\n",
    "            pass\n",
    "        \n",
    "      \n",
    "        count = create_relation(tx, component, subcomponent, 'HAS_PART', 'name', 'name','Component', 'Subcomponent')\n",
    "        if count == 0:\n",
    "#                 print(\"Relationship IN_ orcid doesn't exist, creating it...\")\n",
    "            create_relation(tx,component, subcomponent, 'HAS_PART', 'name', 'name','Component', 'Subcomponent')\n",
    "        else:\n",
    "            pass\n",
    "            \n",
    "            \n",
    "        count = create_relation(tx, device, component, 'HAS_PART', 'name', 'name','Device', 'Component')\n",
    "        if count == 0:\n",
    "#                 print(\"Relationship IN_ orcid doesn't exist, creating it...\")\n",
    "            create_relation(tx,  device, component, 'HAS_PART', 'name', 'name','Device', 'Component')\n",
    "        else:\n",
    "            pass\n",
    "\n",
    "        \n",
    "        count = create_relation(tx, component, material, 'HAS_PART', 'name', 'name','Component', 'Material')\n",
    "        if count == 0:\n",
    "#                 print(\"Relationship IN_ orcid doesn't exist, creating it...\")\n",
    "            create_relation(tx,  component, material, 'HAS_PART', 'name', 'name','Component', 'Material')\n",
    "        else:\n",
    "            pass\n",
    "\n",
    "        count = create_relation(tx, component, measurementid, 'IS_MEASUREMENT_INPUT', 'name', 'name','Component', 'Measurement')\n",
    "        if count == 0:\n",
    "#                 print(\"Relationship IN_ orcid doesn't exist, creating it...\")\n",
    "            create_relation(tx,  component, measurementid, 'IS_MEASUREMENT_INPUT', 'name', 'name','Component', 'Measurement')\n",
    "        else:\n",
    "            pass\n",
    "            \n",
    "          \n",
    "        for founding_body_ in founding_body_list:\n",
    "            count = create_relation(tx,measurementid , founding_body_,  'FUNDED_BY', 'name', 'name','Measurement', 'FundingBody')\n",
    "        if count == 0:\n",
    "#                 print(\"Relationship BY doesn't exist, creating it...\")\n",
    "            create_relation(tx, measurementid , founding_body_,  'FUNDED_BY', 'name', 'name','Measurement', 'FundingBody')\n",
    "        else:\n",
    "            pass\n",
    "        \n",
    "        \n",
    "#         create_relation4(tx, component, 'Imaging', 'new_rel', 'name', 'name', 'EMMOMatter', 'EMMOProcess')"
   ]
  },
  {
   "cell_type": "markdown",
   "id": "178eeba6",
   "metadata": {},
   "source": [
    "# To get the classes and subclasses from ontology, so as to create further IS_A relations with file data"
   ]
  },
  {
   "cell_type": "code",
   "execution_count": 9,
   "id": "115866c9",
   "metadata": {},
   "outputs": [],
   "source": [
    "from neo4j import GraphDatabase\n",
    "\n",
    "\n",
    "def get_all_subclasses(driver, target_class_name,node_lab):\n",
    "    with driver.session() as session:\n",
    "#        result = session.run(\n",
    "#            \"MATCH (target {name: $targetClassName})<-[:$relationshipType*]-(subclass: {name: $targetClassName}) RETURN DISTINCT subclass.name\",\n",
    "#                    targetClassName=target_class_name,\n",
    "#                    relationshipType=relationship_type)\n",
    "        \n",
    "        result = session.run(\n",
    "            \"MATCH (target:{node_lab} {{name: $targetClassName}})<-[:EMMO_IS_A*]-(subclass:{node_lab}) \"\n",
    "            \"RETURN DISTINCT subclass.name\".format(node_lab=node_lab),\n",
    "            targetClassName=target_class_name\n",
    "        )\n",
    "        return set([record[\"subclass.name\"] for record in result])\n",
    "\n",
    "\n"
   ]
  },
  {
   "cell_type": "code",
   "execution_count": 10,
   "id": "6fcd3163",
   "metadata": {},
   "outputs": [
    {
     "name": "stdout",
     "output_type": "stream",
     "text": [
      "['ConversionElectrode', 'Flemion', 'Component', 'Anode', 'CompositeElectrode', 'NonFluorinatedMembrane', 'InertElectrode', 'CCM', 'LithiumIntercalationElectrode', 'PlatinumElectrode', 'ReferenceElectrode', 'GasDiffusionElectrode', 'PorousElectrode', 'Cathode', 'Aquivion', 'AquivionD98-25BS', 'NormalHydrogenElectrode', 'PerfluorinatedMembrane', 'CatalystLayer', 'NRE211', 'MembraneElectrodeAssembly', 'WorkingElectrode', 'FuelCellComponent', 'RotationDiskElectrode', 'MetalElectrode', 'AquivionD72-25BS', 'PolarizableElectrode', 'NonFluorinatedCompositeMembrane', 'BimetallicElectrode', 'Electrode', 'IntercalationElectrode', 'ElectrochemicalComponent', 'GoldElectrode', 'PositiveElectrode', 'Asiplex', 'CatalystCoatedMembrane', 'AquivionSO3H-Form', 'Membrane', 'IndicatorElectrode', '5LayerMEA', 'NonPolarizableElectrode', 'NRE212', 'NegativeElectrode', 'Neosepta-F', 'NafionMembrane', 'Gore-Select', 'CounterElectrode', 'CarbonPasterElectrode', 'HydrogenElectrode', 'AquivionD79-25BS', 'SimpleElectrode', 'PartiallyFluorinatedMembrane']\n"
     ]
    }
   ],
   "source": [
    "# Example usage\n",
    "target_class_name = \"Component\"\n",
    "node_lab='EMMOMatter'\n",
    "# Create a Neo4j driver instance\n",
    "driver = GraphDatabase.driver(\"bolt://localhost:7687\", auth=(\"neo4j\", \"password\"))\n",
    "\n",
    "# Call the function to retrieve all subclasses\n",
    "all_subclasses = get_all_subclasses(driver, target_class_name,node_lab)\n",
    "\n",
    "# Include the target class itself in the set of subclasses\n",
    "all_subclasses.add(target_class_name)\n",
    "\n",
    "# Convert the set to a list\n",
    "component_lst = list(all_subclasses)\n",
    "\n",
    "# Print the subclasses\n",
    "print(component_lst)"
   ]
  },
  {
   "cell_type": "code",
   "execution_count": 11,
   "id": "b52df46d",
   "metadata": {},
   "outputs": [
    {
     "name": "stdout",
     "output_type": "stream",
     "text": [
      "['ConversionElectrode', 'Flemion', 'Component', 'Anode', 'CompositeElectrode', 'NonFluorinatedMembrane', 'InertElectrode', 'CCM', 'LithiumIntercalationElectrode', 'PlatinumElectrode', 'ReferenceElectrode', 'GasDiffusionElectrode', 'PorousElectrode', 'Cathode', 'Aquivion', 'AquivionD98-25BS', 'NormalHydrogenElectrode', 'PerfluorinatedMembrane', 'CatalystLayer', 'NRE211', 'MembraneElectrodeAssembly', 'WorkingElectrode', 'FuelCellComponent', 'RotationDiskElectrode', 'MetalElectrode', 'AquivionD72-25BS', 'PolarizableElectrode', 'NonFluorinatedCompositeMembrane', 'BimetallicElectrode', 'Electrode', 'IntercalationElectrode', 'ElectrochemicalComponent', 'GoldElectrode', 'PositiveElectrode', 'Asiplex', 'CatalystCoatedMembrane', 'AquivionSO3H-Form', 'Membrane', 'IndicatorElectrode', '5LayerMEA', 'NonPolarizableElectrode', 'NRE212', 'NegativeElectrode', 'Neosepta-F', 'NafionMembrane', 'Gore-Select', 'CounterElectrode', 'CarbonPasterElectrode', 'HydrogenElectrode', 'AquivionD79-25BS', 'SimpleElectrode', 'PartiallyFluorinatedMembrane']\n"
     ]
    }
   ],
   "source": [
    "target_class_name = \"Device\"\n",
    "node_lab='EMMOMatter'\n",
    "driver = GraphDatabase.driver(\"bolt://localhost:7687\", auth=(\"neo4j\", \"password\"))\n",
    "all_subclasses = get_all_subclasses(driver, target_class_name,node_lab)\n",
    "all_subclasses.add(target_class_name)\n",
    "device_lst = list(all_subclasses)\n",
    "print(component_lst)"
   ]
  },
  {
   "cell_type": "code",
   "execution_count": 12,
   "id": "35c1c689",
   "metadata": {},
   "outputs": [
    {
     "name": "stdout",
     "output_type": "stream",
     "text": [
      "['Station', 'CurrentCollector', 'StainlessSteelBasedMetalBasedCoatedBipolarPlate', 'TitaniumBasedMetalCarbideCoatedBipolarPlate', 'SwagelokCellHousing', 'NickelBasedMetalNitrideCoatedBipolarPlate', 'FeltGDL', 'TitaniumBasedNobleMetalCoatedBipolarPlate', 'GasDiffusionLayer', 'NonPorousGraphiteBipolarPlate', 'NickelBasedDiamondLikeCarbonCoatedBipolarPlate', 'StainlessSteelBasedMetalCarbidCoatedBipolarPlate', 'NickelBasedNobleMetalCoatedBipolarPlate', 'NickelBasedMetalCarbideCoatedBipolarPlate', 'AluminiumBasedMetalBasedCoatedBipolarPlate', 'Subcomponent', 'ElectronicSubcomponent', 'StainlessSteelBasedConductivePolymerCoatedBipolarPlate', 'StainlessSteelBasedNobleMetalCoatedBipolarPlate', 'StainlessSteelBasedDiamondLikeCarbonCoatedBipolarPlate', 'PrismaticCellHousing', 'NickelBasedCarbonBasedCoatedBipolarPlate', 'NickelBasedBipolarPlate', 'ClothGDL', 'AluminiumBasedOrganicSelfAssemblyMonoPolymerCoatedBipolarPlate', 'CoinCellHousing', 'FuelCellSubcomponent', 'AluminiumBasedMetalNitrideCoatedBipolarPlate', 'AluminiumBasedNobelMetalCoatedBipolarPlate', 'FuelCellStation', 'CarbonBasedCompositeBipolarPlate', 'TitaniumBasedMetalBasedCoatedBipolarPlate', 'CompositeBipolarPlate', 'AluminiumBasedMetalCarbideCoatedBipolarPlate', 'StainlessSteelBasedCarbonBasedCoatedBipolarPlate', 'TitaniumBasedCarbonBasedCoatedBipolarPlate', 'TitaniumBasedGraohiteCoatedBipolarPlate', 'IonicSubcomponent', 'CoolingPlate', 'TitaniumBasedOrganicSelfAssembleMonoPolymerCoatedBipolarPlate', 'TitaniumBasedBipolarPlate', 'CylindricalCellHousing', 'NickelBasedOrganicSelfAssembleMonoPolymerCoatedBipolarPlate', 'BatteryCellContainer', 'TitaniumBasedDiamondLikeCarbonCoatedBipolarPlate', 'PouchCellHousing', 'NickelBasedMetalBasedCoatedBipolarPlate', 'ElectrochemicalSubcomponent', 'PaperGDL', 'StructuralSubcomponent', 'TitaniumBasedConductivePolymerCoatedBipolarPlate', 'ReactiveSubcomponent', 'AluminiumBasedDiamondLikeCarbonCoatedBipolatPlate', 'StainlessSteelBasedGraphiteCoatedBipolarPlate', 'StainlessSteelBasedOrganicSelfAssembleMonoPolymerCoatedBipolarPlate', 'StainlessSteelBasedMetalNitrideCoatedBiploarPlate', 'ElectricCurrentCollector', 'AluminiumBasedCarbonBasedCoatedBipolarPlate', 'NickelBasedConductivePolymerCoatedBipolarPlate', 'CoatedMetallicBipolarPlate', 'Seal', 'MetalBasedCompositeBipolarPlate', 'TitaniumBasedMtealNitrideCoatedBipolarPlate', 'NickelBasedGraphiteCoatedBipolarPlate', 'AluminiumBasedGraphiteCoatedBipolarPlate', 'Binder', 'AluminiumBasedCoductivePolymerCoatedBipolarPlate', 'StainlessSteelBasedBiploarPlate', 'BipolarPlate', 'AluminiumBasedCoatedMetallicBipolarPlate']\n"
     ]
    }
   ],
   "source": [
    "target_class_name = \"Subcomponent\"\n",
    "node_lab='EMMOMatter'\n",
    "driver = GraphDatabase.driver(\"bolt://localhost:7687\", auth=(\"neo4j\", \"password\"))\n",
    "all_subclasses = get_all_subclasses(driver, target_class_name,node_lab)\n",
    "all_subclasses.add(target_class_name)\n",
    "subcomponent_lst = list(all_subclasses)\n",
    "print(subcomponent_lst)"
   ]
  },
  {
   "cell_type": "code",
   "execution_count": 13,
   "id": "0445f7e5",
   "metadata": {},
   "outputs": [
    {
     "name": "stdout",
     "output_type": "stream",
     "text": [
      "['NonAqueousElectrolyte', '2DNanoMaterial', 'GraphiteMaterial', 'AcetyleneBlack', 'NanoMaterial', 'DecalSusbtrate', 'PTFE', 'ConductingPolymerSupportedPlatinumCatalyst', 'Ceramic', 'Copolymer', 'CoatingSubstrate', 'AlkalineElectrolyte', 'BinaryMaterial', 'GasSolution', 'FurnaceBlack', 'SingleMetalCatalyst', 'F50E', 'F50E-HT', 'IonicLiquidElectrolyte', '800EWIonomer', 'IridiumOxideCatalyst', 'AqueousElectrloyte', 'ChannelBlack', '1DNanoMaterial', 'Electrolyte', 'AquivionD98-25BS', 'IsotropicMaterial', 'F30E-HT', 'Nafion_D520CS', 'Nafion_D521CS', 'Gore', 'LampBlack', 'Polyepoxide', 'Catholyte', 'Ionomer', 'Nafion_D2020CS', '0DNanoMaterial', 'AquivionSO3H-Form', 'ElectroCatalyst', 'GraphitizedFurnaceBlackCarbonSupportedPlatinumCatalyst', 'AnisotropicMaterial', 'CarbonBlack', 'CompositeMaterial', 'EA30E', 'TernaryMaterial', 'Polymer', 'NearNeutralElectrolyte', 'FCarbonSupportedPlatinumCatalyst', 'ReactiveMaterial', 'BinaryCarbonSupportedPlatinumCatalyst', 'AquivionD72-25BS', 'Nafion', 'ActiveMaterial', 'AcidicElectrolyte', 'PTFESubstrate', 'ElectrolyteSolution', 'AquivionD79-25BS', 'EnergyMaterial', 'ElectroChemicalIntercalationMaterial', 'LeclancheElectrolyte', 'SecundaryCatalyst', 'CarbonSupportedPlatinumCatalyst', 'FunctionalMaterial', 'ManufacturedMaterial', 'HomoGenousMaterial', 'Aquivion', 'PlatinumCatalyst', 'Anolyte', 'SupportingElectrolyte', 'AqueousElectrolyte', '3M', 'ElectrochemicalIntercalationMaterial', 'LiquidElectrolyte', 'ElectrochemicalConversionMaterial', 'Material', 'ETFE', 'Catalyst', 'F30E', 'Nafion_D2021CS', 'EA30E-HT', '3DNanoMaterial', 'SolidElectrolyte', 'Metal', 'BinaryCatalyst', 'NaturalMaterial', 'ThermalBlack', 'TernaryCatalyst', 'ElectrochemicalMaterial', 'HeterogenousMaterial', 'IntercalationMaterial']\n"
     ]
    }
   ],
   "source": [
    "target_class_name = \"Material\"\n",
    "node_lab='EMMOMatter'\n",
    "driver = GraphDatabase.driver(\"bolt://localhost:7687\", auth=(\"neo4j\", \"password\"))\n",
    "all_subclasses = get_all_subclasses(driver, target_class_name,node_lab)\n",
    "all_subclasses.add(target_class_name)\n",
    "material_lst = list(all_subclasses)\n",
    "print(material_lst)"
   ]
  },
  {
   "cell_type": "code",
   "execution_count": 14,
   "id": "32c5b4ba",
   "metadata": {},
   "outputs": [],
   "source": [
    "from neo4j import GraphDatabase\n",
    "\n",
    "def create_subclass(driver, node_label, superclass_name, subclass_name, url):\n",
    "    with driver.session() as session:\n",
    "        result = session.run(\n",
    "            \"MATCH (superclass:\" + node_label + \") \"\n",
    "            \"WHERE superclass.name = $superclassName \"\n",
    "            \"MERGE (subclass:EMMOMatter { name: $subclassName }) \"\n",
    "            \"ON CREATE SET subclass.url = $url \"\n",
    "            \"MERGE (subclass)-[:EMMO_IS_A]->(superclass) \"\n",
    "            \"RETURN subclass, superclass\",\n",
    "            superclassName=superclass_name,\n",
    "            subclassName=subclass_name,\n",
    "            url=url + subclass_name  # Append subclass_name to the URL\n",
    "        )\n",
    "        return result.single()\n",
    "\n",
    "\n"
   ]
  },
  {
   "cell_type": "markdown",
   "id": "8a618b33",
   "metadata": {},
   "source": [
    "# Creation of IS_A relationship of meta data (organizational data) to EMMO classes."
   ]
  },
  {
   "cell_type": "code",
   "execution_count": 15,
   "id": "57e8bcb0",
   "metadata": {},
   "outputs": [],
   "source": [
    "from sentence_transformers import SentenceTransformer, util\n",
    "\"\"\"\n",
    "This is a simple application for sentence embeddings: semantic search\n",
    "\n",
    "We have a corpus with various sentences. Then, for a given query sentence,\n",
    "we want to find the most similar sentence in this corpus.\n",
    "\n",
    "This script outputs for various queries the top 3 most similar sentences in the corpus.\n",
    "\"\"\"\n",
    "\n",
    "def modify_strings(string):\n",
    "    modified_lst=''\n",
    "   \n",
    "\n",
    "    if len(string.split())==1:\n",
    "        print('string is ',string)\n",
    "        if string.isupper()==True:         \n",
    "            modified_lst=string\n",
    "            \n",
    "        elif string[0].isupper()==True and string[1].isupper()==False:\n",
    "            modified_lst=string\n",
    "#                 print(modified_string)\n",
    "\n",
    "        else:\n",
    "            modified_lst=string.title()\n",
    "\n",
    "    else:     \n",
    "\n",
    "        modified_string = ''.join(word.capitalize() for word in string.split())\n",
    "        modified_lst=modified_string\n",
    "    return modified_lst\n",
    "\n",
    "\n",
    "\n",
    "def emmo_cls_onto(queries,emmo_lst,node_label,superclass_name,url):\n",
    "    \n",
    "    embedder = SentenceTransformer('all-MiniLM-L6-v2')\n",
    "\n",
    "    # Corpus with example sentences\n",
    "    cls_lst_onto = emmo_lst\n",
    "    cls_str_onto = []\n",
    "    for n in cls_lst_onto:\n",
    "        cls_str_onto.append(str(n))\n",
    "    #print(abc_str)\n",
    "\n",
    "\n",
    "    corpus = cls_str_onto\n",
    "    corpus_embeddings = embedder.encode(corpus, convert_to_tensor=True)\n",
    "    cls_dict ={}\n",
    "    # Query sentences:\n",
    "    # queries = class_list\n",
    "    # Find the closest 3 sentences of the corpus for each query sentence based on cosine similarity\n",
    "    top_k = min(3, len(corpus))\n",
    "\n",
    "    subclass_name = queries\n",
    "#         words = subclass_name.split()\n",
    "#         capitalized_words = [word.capitalize() for word in words]\n",
    "#         query = ''.join(capitalized_words)\n",
    "    query = modify_strings(subclass_name)\n",
    "    query_embedding = embedder.encode(query, convert_to_tensor=True)\n",
    "\n",
    "    c_lst=[]\n",
    "    scr_lst=[]\n",
    "\n",
    "    # We use cosine-similarity and torch.topk to find the highest 3 scores\n",
    "    cos_scores = util.cos_sim(query_embedding, corpus_embeddings)[0]\n",
    "    top_results = torch.topk(cos_scores, k=top_k)\n",
    "#     print(top_results)\n",
    "    print(\"\\n\\n======================\\n\\n\")\n",
    "    print(\"Query:\", query)\n",
    "    print(\"\\nTop 3 most similar sentences in corpus:\")\n",
    "\n",
    "    for score, idx in zip(top_results[0], top_results[1]):\n",
    "        print('c_lst ',corpus[idx], \"(Score: {:.4f})\".format(score))\n",
    "        c_lst.append(corpus[idx].replace('mason.', ''))\n",
    "        scr_lst.append(\"{:.4f}\".format(score)) \n",
    "#         print('c_lst ',c_lst)\n",
    "\n",
    "\n",
    "    with driver.session() as session:\n",
    "        with session.begin_transaction() as tx:\n",
    "\n",
    "            if float(scr_lst[0])>=0.9:\n",
    "                spr_cls = c_lst[0]  \n",
    "\n",
    "                create_relation(tx,subclass_name ,spr_cls, \"IS_A\", 'name', 'name',superclass_name,node_label)\n",
    "                print(query,c_lst[0],superclass_name)\n",
    "\n",
    "#                 with session.begin_transaction() as tx:   \n",
    "#                     if device not in ('','-','nan'):  \n",
    "#                         properties = {'name': material}\n",
    "#                         create_or_get_node(tx, \"Material\", properties)\n",
    "\n",
    "\n",
    "            elif float(scr_lst[0])<0.6:     \n",
    "                # Example usage\n",
    "\n",
    "                # Create a Neo4j driver instance\n",
    "                # Call the function to create the subclass and \"IS_A\" relationship\n",
    "                create_subclass(driver, node_label, superclass_name, query, url)\n",
    "                create_relation(tx, subclass_name ,query, \"IS_A\",  'name', 'name',superclass_name,node_label)\n",
    "\n",
    "                print('outside func ',superclass_name ,node_label, query, url)\n",
    "#            createNewClass(query,spr_cls)"
   ]
  },
  {
   "cell_type": "code",
   "execution_count": 16,
   "id": "8ea61059",
   "metadata": {},
   "outputs": [
    {
     "name": "stdout",
     "output_type": "stream",
     "text": [
      "\n",
      "\n",
      "======================\n",
      "\n",
      "\n",
      "Query: FuelCells\n",
      "\n",
      "Top 3 most similar sentences in corpus:\n",
      "c_lst  FuelCell (Score: 0.9472)\n",
      "c_lst  FuelCellStack (Score: 0.8775)\n",
      "c_lst  BatteryCell (Score: 0.6030)\n",
      "FuelCells FuelCell Device\n"
     ]
    }
   ],
   "source": [
    "node_label = 'EMMOMatter'\n",
    "superclass_name='Device'\n",
    "url = 'http://www.semanticweb.org/maxdreger/ontologies/2022/10/matter/#'\n",
    "# d_lst=['Catalysis','Lithium Battery','PEMFC','Fuel Cells','FUELCELLS','FuelCells','Vanadium redox flow battery','VanadiumRedoxFlowBattery','Proton Exchange Membrane Fuel Cell','LithiumBattery','Polymer electrolyte fuel cell','PolymerElectrolyteFuelCell']\n",
    "cls_dict=emmo_cls_onto(device,device_lst,node_label,superclass_name,url)\n"
   ]
  },
  {
   "cell_type": "code",
   "execution_count": 17,
   "id": "1700662d",
   "metadata": {},
   "outputs": [],
   "source": [
    "# with driver.session() as session:\n",
    "#     with session.begin_transaction() as tx:\n",
    "#         node_label = 'EMMOMatter'\n",
    "#         superclass_name='Device'\n",
    "#         spr_cls='FuelCell' \n",
    "#         query='FuelCells'\n",
    "#         create_relation(tx,query ,spr_cls, \"IS_A\", 'name', 'name')"
   ]
  },
  {
   "cell_type": "code",
   "execution_count": 18,
   "id": "dd1d3efb",
   "metadata": {},
   "outputs": [
    {
     "name": "stdout",
     "output_type": "stream",
     "text": [
      "string is  MembraneElectrodeAssembly\n",
      "\n",
      "\n",
      "======================\n",
      "\n",
      "\n",
      "Query: MembraneElectrodeAssembly\n",
      "\n",
      "Top 3 most similar sentences in corpus:\n",
      "c_lst  MembraneElectrodeAssembly (Score: 1.0000)\n",
      "c_lst  Membrane (Score: 0.6848)\n",
      "c_lst  HydrogenElectrode (Score: 0.5968)\n",
      "MembraneElectrodeAssembly MembraneElectrodeAssembly Component\n"
     ]
    }
   ],
   "source": [
    "node_label = 'EMMOMatter'\n",
    "superclass_name='Component'\n",
    "url = 'http://www.semanticweb.org/maxdreger/ontologies/2022/10/matter/#'\n",
    "# c_lst_=['Catalyst layer','Membrane electrode assembly','MEA','Battery Electrode']\n",
    "cls_dict=emmo_cls_onto(component,component_lst,node_label,superclass_name,url)\n"
   ]
  },
  {
   "cell_type": "code",
   "execution_count": 19,
   "id": "fb353a38",
   "metadata": {},
   "outputs": [
    {
     "name": "stdout",
     "output_type": "stream",
     "text": [
      "\n",
      "\n",
      "======================\n",
      "\n",
      "\n",
      "Query: CatalystLayer\n",
      "\n",
      "Top 3 most similar sentences in corpus:\n",
      "c_lst  GasDiffusionLayer (Score: 0.4745)\n",
      "c_lst  TitaniumBasedDiamondLikeCarbonCoatedBipolarPlate (Score: 0.4340)\n",
      "c_lst  TitaniumBasedGraohiteCoatedBipolarPlate (Score: 0.4150)\n",
      "outside func  Subcomponent EMMOMatter CatalystLayer http://www.semanticweb.org/maxdreger/ontologies/2022/10/matter/#\n"
     ]
    }
   ],
   "source": [
    "node_label = 'EMMOMatter'\n",
    "superclass_name='Subcomponent'\n",
    "url = 'http://www.semanticweb.org/maxdreger/ontologies/2022/10/matter/#'\n",
    "# s_lst_=['Catalyst','Gas diffusion electrode','Catalyst Layer']\n",
    "cls_dict=emmo_cls_onto(subcomponent,subcomponent_lst,node_label,superclass_name,url)\n",
    "\n"
   ]
  },
  {
   "cell_type": "code",
   "execution_count": 20,
   "id": "fa5817bf",
   "metadata": {},
   "outputs": [
    {
     "name": "stdout",
     "output_type": "stream",
     "text": [
      "\n",
      "\n",
      "======================\n",
      "\n",
      "\n",
      "Query: CarbonFeltElectrode\n",
      "\n",
      "Top 3 most similar sentences in corpus:\n",
      "c_lst  CarbonSupportedPlatinumCatalyst (Score: 0.4882)\n",
      "c_lst  ManufacturedMaterial (Score: 0.4380)\n",
      "c_lst  CarbonBlack (Score: 0.4215)\n",
      "outside func  Material EMMOMatter CarbonFeltElectrode http://www.semanticweb.org/maxdreger/ontologies/2022/10/matter/#\n"
     ]
    }
   ],
   "source": [
    "node_label = 'EMMOMatter'\n",
    "superclass_name='Material'\n",
    "url = 'http://www.semanticweb.org/maxdreger/ontologies/2022/10/matter/#'\n",
    "# lst_=['30 wt% Pd/C','5 wt% Pd/C','Gas diffusion layer','0.2 mg/cm2 Pt MEA','platinum','Carbon felt electrode','NMC111 electrode','LixMnO2','Pt']\n",
    "cls_dict=emmo_cls_onto(material,material_lst,node_label,superclass_name,url)"
   ]
  },
  {
   "cell_type": "code",
   "execution_count": 21,
   "id": "088e43e6",
   "metadata": {},
   "outputs": [],
   "source": [
    "# print(Measurement_ID,Experiment_ID=Experiment_ID, Experiment_Title=Experiment_Title, Measurement_date=Measurement_date)"
   ]
  },
  {
   "cell_type": "code",
   "execution_count": null,
   "id": "a153ece0",
   "metadata": {},
   "outputs": [],
   "source": []
  },
  {
   "cell_type": "code",
   "execution_count": null,
   "id": "c16aad20",
   "metadata": {},
   "outputs": [],
   "source": []
  },
  {
   "cell_type": "code",
   "execution_count": null,
   "id": "676633c9",
   "metadata": {},
   "outputs": [],
   "source": []
  }
 ],
 "metadata": {
  "kernelspec": {
   "display_name": "Python 3 (ipykernel)",
   "language": "python",
   "name": "python3"
  },
  "language_info": {
   "codemirror_mode": {
    "name": "ipython",
    "version": 3
   },
   "file_extension": ".py",
   "mimetype": "text/x-python",
   "name": "python",
   "nbconvert_exporter": "python",
   "pygments_lexer": "ipython3",
   "version": "3.10.9"
  }
 },
 "nbformat": 4,
 "nbformat_minor": 5
}
